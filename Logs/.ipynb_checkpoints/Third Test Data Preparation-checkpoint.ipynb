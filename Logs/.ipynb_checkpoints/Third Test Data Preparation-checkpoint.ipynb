{
 "cells": [
  {
   "cell_type": "markdown",
   "metadata": {},
   "source": [
    "# Third Test Data Preparation"
   ]
  },
  {
   "cell_type": "code",
   "execution_count": 1,
   "metadata": {},
   "outputs": [],
   "source": [
    "#imports\n",
    "from PIL import Image\n",
    "import matplotlib.pyplot as plt\n",
    "import datetime"
   ]
  },
  {
   "cell_type": "code",
   "execution_count": 11,
   "metadata": {},
   "outputs": [],
   "source": [
    "#List of frames that were already captured\n",
    "storedFrames = list(range(100,121))+list(range(300,321))+list(range(500,521))"
   ]
  },
  {
   "cell_type": "code",
   "execution_count": 12,
   "metadata": {},
   "outputs": [],
   "source": [
    "#This methode loads all images for a certain tilesize. \n",
    "#They have to be in a folder named after their tilesize (e.g. '8') in a folder named after the screen resolution in the folder 'SecondTest'\n",
    "#Input: tilesize := (int) size of the tiles in the scene and name of the folder, \n",
    "#       screensize := (string) screen resolution, name of the folder \n",
    "#Output: list with all tilemasks\n",
    "def loadImages(tilesize, screensize):\n",
    "    masks = {}\n",
    "    for frameID in storedFrames:\n",
    "        masks[str(frameID)] = []\n",
    "        for objID in range(0,14):\n",
    "            masks[str(frameID)] += [Image.open('ThirdTest\\\\'+str(tilesize)+'\\\\'+screensize+'\\\\'+str(frameID)+'_object'+str(objID)+'.png')] # Can be many different formats.\n",
    "    \n",
    "    return masks"
   ]
  },
  {
   "cell_type": "code",
   "execution_count": 13,
   "metadata": {},
   "outputs": [
    {
     "ename": "OSError",
     "evalue": "[Errno 24] Too many open files: 'ThirdTest\\\\32\\\\1024x768\\\\117_object11.png'",
     "output_type": "error",
     "traceback": [
      "\u001b[1;31m---------------------------------------------------------------------------\u001b[0m",
      "\u001b[1;31mOSError\u001b[0m                                   Traceback (most recent call last)",
      "\u001b[1;32m<ipython-input-13-62e74301cb61>\u001b[0m in \u001b[0;36m<module>\u001b[1;34m()\u001b[0m\n\u001b[0;32m      4\u001b[0m     \u001b[0mmasks\u001b[0m \u001b[1;33m=\u001b[0m \u001b[1;33m{\u001b[0m\u001b[1;33m}\u001b[0m\u001b[1;33m\u001b[0m\u001b[0m\n\u001b[0;32m      5\u001b[0m     \u001b[1;32mfor\u001b[0m \u001b[0mscreensize\u001b[0m \u001b[1;32min\u001b[0m \u001b[1;33m[\u001b[0m\u001b[1;34m'800x600'\u001b[0m\u001b[1;33m,\u001b[0m \u001b[1;34m'1024x768'\u001b[0m\u001b[1;33m,\u001b[0m \u001b[1;34m'1920x1080'\u001b[0m\u001b[1;33m,\u001b[0m \u001b[1;34m'3840x2160'\u001b[0m \u001b[1;33m]\u001b[0m\u001b[1;33m:\u001b[0m\u001b[1;33m\u001b[0m\u001b[0m\n\u001b[1;32m----> 6\u001b[1;33m         \u001b[0mmasks\u001b[0m\u001b[1;33m[\u001b[0m\u001b[0mscreensize\u001b[0m\u001b[1;33m]\u001b[0m \u001b[1;33m=\u001b[0m \u001b[0mloadImages\u001b[0m\u001b[1;33m(\u001b[0m\u001b[0mtilesize\u001b[0m\u001b[1;33m,\u001b[0m\u001b[0mscreensize\u001b[0m\u001b[1;33m)\u001b[0m\u001b[1;33m\u001b[0m\u001b[0m\n\u001b[0m\u001b[0;32m      7\u001b[0m \u001b[1;33m\u001b[0m\u001b[0m\n\u001b[0;32m      8\u001b[0m     \u001b[0mtilemasks\u001b[0m\u001b[1;33m[\u001b[0m\u001b[0mstr\u001b[0m\u001b[1;33m(\u001b[0m\u001b[0mtilesize\u001b[0m\u001b[1;33m)\u001b[0m\u001b[1;33m]\u001b[0m \u001b[1;33m=\u001b[0m \u001b[0mmasks\u001b[0m\u001b[1;33m\u001b[0m\u001b[0m\n",
      "\u001b[1;32m<ipython-input-12-b295c75c62d2>\u001b[0m in \u001b[0;36mloadImages\u001b[1;34m(tilesize, screensize)\u001b[0m\n\u001b[0;32m      9\u001b[0m         \u001b[0mmasks\u001b[0m\u001b[1;33m[\u001b[0m\u001b[0mstr\u001b[0m\u001b[1;33m(\u001b[0m\u001b[0mframeID\u001b[0m\u001b[1;33m)\u001b[0m\u001b[1;33m]\u001b[0m \u001b[1;33m=\u001b[0m \u001b[1;33m[\u001b[0m\u001b[1;33m]\u001b[0m\u001b[1;33m\u001b[0m\u001b[0m\n\u001b[0;32m     10\u001b[0m         \u001b[1;32mfor\u001b[0m \u001b[0mobjID\u001b[0m \u001b[1;32min\u001b[0m \u001b[0mrange\u001b[0m\u001b[1;33m(\u001b[0m\u001b[1;36m0\u001b[0m\u001b[1;33m,\u001b[0m\u001b[1;36m14\u001b[0m\u001b[1;33m)\u001b[0m\u001b[1;33m:\u001b[0m\u001b[1;33m\u001b[0m\u001b[0m\n\u001b[1;32m---> 11\u001b[1;33m             \u001b[0mmasks\u001b[0m\u001b[1;33m[\u001b[0m\u001b[0mstr\u001b[0m\u001b[1;33m(\u001b[0m\u001b[0mframeID\u001b[0m\u001b[1;33m)\u001b[0m\u001b[1;33m]\u001b[0m \u001b[1;33m+=\u001b[0m \u001b[1;33m[\u001b[0m\u001b[0mImage\u001b[0m\u001b[1;33m.\u001b[0m\u001b[0mopen\u001b[0m\u001b[1;33m(\u001b[0m\u001b[1;34m'ThirdTest\\\\'\u001b[0m\u001b[1;33m+\u001b[0m\u001b[0mstr\u001b[0m\u001b[1;33m(\u001b[0m\u001b[0mtilesize\u001b[0m\u001b[1;33m)\u001b[0m\u001b[1;33m+\u001b[0m\u001b[1;34m'\\\\'\u001b[0m\u001b[1;33m+\u001b[0m\u001b[0mscreensize\u001b[0m\u001b[1;33m+\u001b[0m\u001b[1;34m'\\\\'\u001b[0m\u001b[1;33m+\u001b[0m\u001b[0mstr\u001b[0m\u001b[1;33m(\u001b[0m\u001b[0mframeID\u001b[0m\u001b[1;33m)\u001b[0m\u001b[1;33m+\u001b[0m\u001b[1;34m'_object'\u001b[0m\u001b[1;33m+\u001b[0m\u001b[0mstr\u001b[0m\u001b[1;33m(\u001b[0m\u001b[0mobjID\u001b[0m\u001b[1;33m)\u001b[0m\u001b[1;33m+\u001b[0m\u001b[1;34m'.png'\u001b[0m\u001b[1;33m)\u001b[0m\u001b[1;33m]\u001b[0m \u001b[1;31m# Can be many different formats.\u001b[0m\u001b[1;33m\u001b[0m\u001b[0m\n\u001b[0m\u001b[0;32m     12\u001b[0m \u001b[1;33m\u001b[0m\u001b[0m\n\u001b[0;32m     13\u001b[0m     \u001b[1;32mreturn\u001b[0m \u001b[0mmasks\u001b[0m\u001b[1;33m\u001b[0m\u001b[0m\n",
      "\u001b[1;32mD:\\Programme\\Anaconda\\lib\\site-packages\\PIL\\Image.py\u001b[0m in \u001b[0;36mopen\u001b[1;34m(fp, mode)\u001b[0m\n",
      "\u001b[1;31mOSError\u001b[0m: [Errno 24] Too many open files: 'ThirdTest\\\\32\\\\1024x768\\\\117_object11.png'"
     ]
    }
   ],
   "source": [
    "#setup data structure and read in the images\n",
    "tilemasks = {}\n",
    "for tilesize in [8]: #,16,32,64\n",
    "    masks = {}\n",
    "    for screensize in ['800x600', '1024x768', '1920x1080', '3840x2160' ]:\n",
    "        masks[screensize] = loadImages(tilesize,screensize)\n",
    "    \n",
    "    tilemasks[str(tilesize)] = masks    "
   ]
  },
  {
   "cell_type": "code",
   "execution_count": 5,
   "metadata": {},
   "outputs": [],
   "source": [
    "#This methode counts the number of non black (red) pixels in the given image\n",
    "#Input: img := Image\n",
    "#Output: number of non black pixels in img\n",
    "def countRed(img):\n",
    "    count = 0;\n",
    "    \n",
    "    pix = img.load()\n",
    "    for x in range(0,img.size[0]):\n",
    "        for y in range(0,img.size[1]):\n",
    "            if(pix[x,y][0] != 0):\n",
    "                count += 1\n",
    "                \n",
    "    return count;"
   ]
  },
  {
   "cell_type": "code",
   "execution_count": 6,
   "metadata": {},
   "outputs": [],
   "source": [
    "#This methode counts the number of non black (red) pixels all the images belonging to one frame\n",
    "#Input:  tilesize := string (size of the tiles while rendering)\n",
    "#        screensize := string (screen resolution)\n",
    "#        frameID := int (ID of the frame)\n",
    "#Output: number of red pixels in all images belonging to the camera with id = camID\n",
    "def countRedCamera(tilesize,screensize,frameID):\n",
    "    result = 0;\n",
    "    for objID in range(0,len(tilemasks[tilesize][screensize][str(frameID)])):\n",
    "        result += countRed(tilemasks[tilesize][screensize][str(frameID)][objID])\n",
    "        \n",
    "    return result"
   ]
  },
  {
   "cell_type": "code",
   "execution_count": 7,
   "metadata": {},
   "outputs": [],
   "source": [
    "#This methode takes two images and counts the number of non black pixels in the same position on both images\n",
    "#Input: img1 := Image, img2 := Image\n",
    "#Output: number of non black pixels that are in same position on img1 and img2\n",
    "def compareRed(img1, img2):\n",
    "    count = 0;\n",
    "    \n",
    "    pix1 = img1.load()\n",
    "    pix2 = img2.load()\n",
    "    for x in range(0,img1.size[0]):\n",
    "        for y in range(0,img1.size[1]):\n",
    "            if(pix1[x,y][0] != 0 and pix2[x,y][0] != 0 ):\n",
    "                count += 1\n",
    "                \n",
    "    return count;\n",
    "    "
   ]
  },
  {
   "cell_type": "code",
   "execution_count": 8,
   "metadata": {},
   "outputs": [],
   "source": [
    "#This methode takes two frames and counts the number of non black pixels in the same position on all images of both cameras\n",
    "#Input:  tilesize := string (size of the tiles while rendering)\n",
    "#        screensize := string (screen resolution)\n",
    "#        frameID1 := int (ID of the frame with id = frameID1)\n",
    "#        frameID2 := int (ID of the frame with id = frameID2)\n",
    "#Output: number of non black pixels that are in same position int frame 1 and frame 2\n",
    "def compareRedCameras(tilesize, screensize, frameID1, frameID2):\n",
    "    result = 0;\n",
    "    for objID in range(0,len(tilemasks[tilesize][screensize][str(frameID1)])):\n",
    "        result += compareRed(tilemasks[tilesize][screensize][str(frameID1)][objID],tilemasks[tilesize][screensize][str(frameID2)][objID])\n",
    "        \n",
    "    return result"
   ]
  },
  {
   "cell_type": "code",
   "execution_count": 10,
   "metadata": {},
   "outputs": [
    {
     "name": "stdout",
     "output_type": "stream",
     "text": [
      "8, 800x600, 100, 12403, 101, 12401, 11942\n",
      "\n",
      "8, 800x600, 101, 12401, 102, 12463, 11925\n",
      "\n",
      "8, 800x600, 102, 12463, 103, 12577, 11974\n",
      "\n",
      "8, 800x600, 103, 12577, 104, 12522, 12038\n",
      "\n",
      "8, 800x600, 104, 12522, 105, 12516, 11988\n",
      "\n",
      "8, 800x600, 300, 14418, 301, 14435, 13919\n",
      "\n",
      "8, 800x600, 301, 14435, 302, 14410, 13887\n",
      "\n",
      "8, 800x600, 302, 14410, 303, 14408, 14406\n",
      "\n",
      "8, 800x600, 303, 14408, 304, 14441, 13707\n",
      "\n"
     ]
    },
    {
     "ename": "KeyboardInterrupt",
     "evalue": "",
     "output_type": "error",
     "traceback": [
      "\u001b[1;31m---------------------------------------------------------------------------\u001b[0m",
      "\u001b[1;31mKeyboardInterrupt\u001b[0m                         Traceback (most recent call last)",
      "\u001b[1;32m<ipython-input-10-8c5fdad02b4d>\u001b[0m in \u001b[0;36m<module>\u001b[1;34m()\u001b[0m\n\u001b[0;32m     14\u001b[0m                       \u001b[0mstr\u001b[0m\u001b[1;33m(\u001b[0m\u001b[0mframeID2\u001b[0m\u001b[1;33m)\u001b[0m\u001b[1;33m+\u001b[0m\u001b[1;34m\", \"\u001b[0m\u001b[1;33m+\u001b[0m\u001b[1;33m\u001b[0m\u001b[0m\n\u001b[0;32m     15\u001b[0m                       \u001b[0mstr\u001b[0m\u001b[1;33m(\u001b[0m\u001b[0mcountRedCamera\u001b[0m\u001b[1;33m(\u001b[0m\u001b[0mtilesize\u001b[0m\u001b[1;33m,\u001b[0m \u001b[0mscreensize\u001b[0m\u001b[1;33m,\u001b[0m \u001b[0mframeID2\u001b[0m\u001b[1;33m)\u001b[0m\u001b[1;33m)\u001b[0m\u001b[1;33m+\u001b[0m\u001b[1;34m\", \"\u001b[0m\u001b[1;33m+\u001b[0m\u001b[1;33m\u001b[0m\u001b[0m\n\u001b[1;32m---> 16\u001b[1;33m                       \u001b[0mstr\u001b[0m\u001b[1;33m(\u001b[0m\u001b[0mcompareRedCameras\u001b[0m\u001b[1;33m(\u001b[0m\u001b[0mtilesize\u001b[0m\u001b[1;33m,\u001b[0m \u001b[0mscreensize\u001b[0m\u001b[1;33m,\u001b[0m \u001b[0mframeID1\u001b[0m\u001b[1;33m,\u001b[0m\u001b[0mframeID2\u001b[0m\u001b[1;33m)\u001b[0m\u001b[1;33m)\u001b[0m\u001b[1;33m+\u001b[0m\u001b[1;33m\u001b[0m\u001b[0m\n\u001b[0m\u001b[0;32m     17\u001b[0m                       \u001b[1;34m\"\\n\"\u001b[0m\u001b[1;33m\u001b[0m\u001b[0m\n\u001b[0;32m     18\u001b[0m                 )\n",
      "\u001b[1;32m<ipython-input-6-081583c8b5f2>\u001b[0m in \u001b[0;36mcountRedCamera\u001b[1;34m(tilesize, screensize, frameID)\u001b[0m\n\u001b[0;32m      7\u001b[0m     \u001b[0mresult\u001b[0m \u001b[1;33m=\u001b[0m \u001b[1;36m0\u001b[0m\u001b[1;33m;\u001b[0m\u001b[1;33m\u001b[0m\u001b[0m\n\u001b[0;32m      8\u001b[0m     \u001b[1;32mfor\u001b[0m \u001b[0mobjID\u001b[0m \u001b[1;32min\u001b[0m \u001b[0mrange\u001b[0m\u001b[1;33m(\u001b[0m\u001b[1;36m0\u001b[0m\u001b[1;33m,\u001b[0m\u001b[0mlen\u001b[0m\u001b[1;33m(\u001b[0m\u001b[0mtilemasks\u001b[0m\u001b[1;33m[\u001b[0m\u001b[0mtilesize\u001b[0m\u001b[1;33m]\u001b[0m\u001b[1;33m[\u001b[0m\u001b[0mscreensize\u001b[0m\u001b[1;33m]\u001b[0m\u001b[1;33m[\u001b[0m\u001b[0mstr\u001b[0m\u001b[1;33m(\u001b[0m\u001b[0mframeID\u001b[0m\u001b[1;33m)\u001b[0m\u001b[1;33m]\u001b[0m\u001b[1;33m)\u001b[0m\u001b[1;33m)\u001b[0m\u001b[1;33m:\u001b[0m\u001b[1;33m\u001b[0m\u001b[0m\n\u001b[1;32m----> 9\u001b[1;33m         \u001b[0mresult\u001b[0m \u001b[1;33m+=\u001b[0m \u001b[0mcountRed\u001b[0m\u001b[1;33m(\u001b[0m\u001b[0mtilemasks\u001b[0m\u001b[1;33m[\u001b[0m\u001b[0mtilesize\u001b[0m\u001b[1;33m]\u001b[0m\u001b[1;33m[\u001b[0m\u001b[0mscreensize\u001b[0m\u001b[1;33m]\u001b[0m\u001b[1;33m[\u001b[0m\u001b[0mstr\u001b[0m\u001b[1;33m(\u001b[0m\u001b[0mframeID\u001b[0m\u001b[1;33m)\u001b[0m\u001b[1;33m]\u001b[0m\u001b[1;33m[\u001b[0m\u001b[0mobjID\u001b[0m\u001b[1;33m]\u001b[0m\u001b[1;33m)\u001b[0m\u001b[1;33m\u001b[0m\u001b[0m\n\u001b[0m\u001b[0;32m     10\u001b[0m \u001b[1;33m\u001b[0m\u001b[0m\n\u001b[0;32m     11\u001b[0m     \u001b[1;32mreturn\u001b[0m \u001b[0mresult\u001b[0m\u001b[1;33m\u001b[0m\u001b[0m\n",
      "\u001b[1;32m<ipython-input-5-1a9aec36ae58>\u001b[0m in \u001b[0;36mcountRed\u001b[1;34m(img)\u001b[0m\n\u001b[0;32m      8\u001b[0m     \u001b[1;32mfor\u001b[0m \u001b[0mx\u001b[0m \u001b[1;32min\u001b[0m \u001b[0mrange\u001b[0m\u001b[1;33m(\u001b[0m\u001b[1;36m0\u001b[0m\u001b[1;33m,\u001b[0m\u001b[0mimg\u001b[0m\u001b[1;33m.\u001b[0m\u001b[0msize\u001b[0m\u001b[1;33m[\u001b[0m\u001b[1;36m0\u001b[0m\u001b[1;33m]\u001b[0m\u001b[1;33m)\u001b[0m\u001b[1;33m:\u001b[0m\u001b[1;33m\u001b[0m\u001b[0m\n\u001b[0;32m      9\u001b[0m         \u001b[1;32mfor\u001b[0m \u001b[0my\u001b[0m \u001b[1;32min\u001b[0m \u001b[0mrange\u001b[0m\u001b[1;33m(\u001b[0m\u001b[1;36m0\u001b[0m\u001b[1;33m,\u001b[0m\u001b[0mimg\u001b[0m\u001b[1;33m.\u001b[0m\u001b[0msize\u001b[0m\u001b[1;33m[\u001b[0m\u001b[1;36m1\u001b[0m\u001b[1;33m]\u001b[0m\u001b[1;33m)\u001b[0m\u001b[1;33m:\u001b[0m\u001b[1;33m\u001b[0m\u001b[0m\n\u001b[1;32m---> 10\u001b[1;33m             \u001b[1;32mif\u001b[0m\u001b[1;33m(\u001b[0m\u001b[0mpix\u001b[0m\u001b[1;33m[\u001b[0m\u001b[0mx\u001b[0m\u001b[1;33m,\u001b[0m\u001b[0my\u001b[0m\u001b[1;33m]\u001b[0m\u001b[1;33m[\u001b[0m\u001b[1;36m0\u001b[0m\u001b[1;33m]\u001b[0m \u001b[1;33m!=\u001b[0m \u001b[1;36m0\u001b[0m\u001b[1;33m)\u001b[0m\u001b[1;33m:\u001b[0m\u001b[1;33m\u001b[0m\u001b[0m\n\u001b[0m\u001b[0;32m     11\u001b[0m                 \u001b[0mcount\u001b[0m \u001b[1;33m+=\u001b[0m \u001b[1;36m1\u001b[0m\u001b[1;33m\u001b[0m\u001b[0m\n\u001b[0;32m     12\u001b[0m \u001b[1;33m\u001b[0m\u001b[0m\n",
      "\u001b[1;31mKeyboardInterrupt\u001b[0m: "
     ]
    }
   ],
   "source": [
    "d = datetime.datetime.now()\n",
    "name = \"ThirdTest\\\\ThirdTest\"+str(d.date())+\"_\"+str(d.hour)+str(d.minute)+\".csv\"\n",
    "file = open(name,\"w+\")\n",
    "\n",
    "for tilesize in tilemasks:\n",
    "    for screensize in tilemasks[tilesize]:\n",
    "        for frameID1 in storedFrames:\n",
    "            frameID2 = frameID1+1\n",
    "            if(frameID2 in storedFrames):\n",
    "                s =  (str(tilesize)+\", \"+\n",
    "                      str(screensize)+\", \"+\n",
    "                      str(frameID1)+\", \"+\n",
    "                      str(countRedCamera(tilesize, screensize, frameID1))+\", \"+\n",
    "                      str(frameID2)+\", \"+\n",
    "                      str(countRedCamera(tilesize, screensize, frameID2))+\", \"+\n",
    "                      str(compareRedCameras(tilesize, screensize, frameID1,frameID2))+\n",
    "                      \"\\n\"\n",
    "                )\n",
    "                file.write(s)\n",
    "                print(s)\n",
    "                \n",
    "file.close()"
   ]
  },
  {
   "cell_type": "code",
   "execution_count": null,
   "metadata": {},
   "outputs": [],
   "source": []
  }
 ],
 "metadata": {
  "kernelspec": {
   "display_name": "Python 3",
   "language": "python",
   "name": "python3"
  },
  "language_info": {
   "codemirror_mode": {
    "name": "ipython",
    "version": 3
   },
   "file_extension": ".py",
   "mimetype": "text/x-python",
   "name": "python",
   "nbconvert_exporter": "python",
   "pygments_lexer": "ipython3",
   "version": "3.6.4"
  }
 },
 "nbformat": 4,
 "nbformat_minor": 2
}
