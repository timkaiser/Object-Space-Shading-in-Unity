{
 "cells": [
  {
   "cell_type": "markdown",
   "metadata": {},
   "source": [
    "# Second Test Evaluation"
   ]
  },
  {
   "cell_type": "code",
   "execution_count": 1,
   "metadata": {},
   "outputs": [],
   "source": [
    "#imports\n",
    "import pandas as pd \n",
    "import matplotlib.pyplot as plt\n",
    "import numpy as np"
   ]
  },
  {
   "cell_type": "code",
   "execution_count": null,
   "metadata": {},
   "outputs": [],
   "source": [
    "#read data\n",
    "8, 800x600, 0, 20095, 1, 17443, 3931\n",
    "labels = ['tile size','screen size','cam id 1','tiles cam 1','cam id 2','tiles cam 2', 'commmon tiles']\n",
    "data = {\n",
    "    '8': {\n",
    "        '800x600'  :pd.read_csv(\"FirstTest\\FirstTest_2019-1-4_1037_800x600_8.csv\",names =  labels),\n",
    "        '1024x768' :pd.read_csv(\"FirstTest\\FirstTest_2019-1-4_1038_1024x768_8.csv\",names =  labels),\n",
    "        '1920x1080':pd.read_csv(\"FirstTest\\FirstTest_2019-1-4_1039_1920x1080_8.csv\",names =  labels),\n",
    "        '3840x2160':pd.read_csv(\"FirstTest\\FirstTest_2019-1-4_1040_3840x2160_8.csv\",names =  labels)\n",
    "    },\n",
    "    '16':{ \n",
    "        '800x600'  :pd.read_csv(\"FirstTest\\FirstTest_2019-1-4_1121_800x600_16.csv\",names =  labels),\n",
    "        '1024x768' :pd.read_csv(\"FirstTest\\FirstTest_2019-1-4_1122_1024x768_16.csv\",names =  labels),\n",
    "        '1920x1080':pd.read_csv(\"FirstTest\\FirstTest_2019-1-4_1122_1920x1080_16.csv\",names =  labels),\n",
    "        '3840x2160':pd.read_csv(\"FirstTest\\FirstTest_2019-1-4_1123_3840x2160_16.csv\",names =  labels)\n",
    "    },\n",
    "    '32':{ \n",
    "        '800x600'  :pd.read_csv(\"FirstTest\\FirstTest_2019-1-4_1834_800x600_32.csv\",names =  labels),\n",
    "        '1024x768' :pd.read_csv(\"FirstTest\\FirstTest_2019-1-4_1834_1024x768_32.csv\",names =  labels),\n",
    "        '1920x1080':pd.read_csv(\"FirstTest\\FirstTest_2019-1-4_1835_1920x1080_32.csv\",names =  labels),\n",
    "        '3840x2160':pd.read_csv(\"FirstTest\\FirstTest_2019-1-4_1835_3840x2160_32.csv\",names =  labels)\n",
    "    },\n",
    "    '64':{ \n",
    "        '800x600'  :pd.read_csv(\"FirstTest\\FirstTest_2019-1-4_1836_800x600_64.csv\",names =  labels),\n",
    "        '1024x768' :pd.read_csv(\"FirstTest\\FirstTest_2019-1-4_1837_1024x768_64.csv\",names =  labels),\n",
    "        '1920x1080':pd.read_csv(\"FirstTest\\FirstTest_2019-1-4_1837_1920x1080_64.csv\",names =  labels),\n",
    "        '3840x2160':pd.read_csv(\"FirstTest\\FirstTest_2019-1-4_1838_3840x2160_64.csv\",names =  labels)\n",
    "    }\n",
    "}\n"
   ]
  }
 ],
 "metadata": {
  "kernelspec": {
   "display_name": "Python 3",
   "language": "python",
   "name": "python3"
  },
  "language_info": {
   "codemirror_mode": {
    "name": "ipython",
    "version": 3
   },
   "file_extension": ".py",
   "mimetype": "text/x-python",
   "name": "python",
   "nbconvert_exporter": "python",
   "pygments_lexer": "ipython3",
   "version": "3.6.4"
  }
 },
 "nbformat": 4,
 "nbformat_minor": 2
}
